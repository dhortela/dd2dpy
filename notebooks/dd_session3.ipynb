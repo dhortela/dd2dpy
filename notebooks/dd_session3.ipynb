{
 "cells": [
  {
   "cell_type": "markdown",
   "id": "db6153bf-40c8-4b70-9361-f9ccc7c166fc",
   "metadata": {},
   "source": [
    "# Author details and requirements\n",
    "\n",
    "**Author**: Daniel Hortelano Roig</br>\n",
    "**Organisation**: University of Oxford, UK</br>\n",
    "**Contact**: daniel.hortelanoroig@gmail.com</br>\n",
    "**Date**: December 2024\n",
    "\n",
    "The [dd2dpy\n",
    "](https://github.com/dhortela/dd2dpy/) package is required to run this notebook. This notebook is also available on Google Colab via [link](https://colab.research.google.com/drive/1i0TPtc9gJwDNPm9BSH155uJEfJ6Mcp9J#scrollTo=CCE3IMWKpmKG)."
   ]
  },
  {
   "cell_type": "markdown",
   "id": "DU6-CnSrkmR2",
   "metadata": {
    "id": "DU6-CnSrkmR2"
   },
   "source": [
    "# Importing simulation code"
   ]
  },
  {
   "cell_type": "markdown",
   "id": "btd-Fylypn3u",
   "metadata": {
    "id": "btd-Fylypn3u"
   },
   "source": [
    "## Libraries used for session"
   ]
  },
  {
   "cell_type": "code",
   "execution_count": 1,
   "id": "CCE3IMWKpmKG",
   "metadata": {
    "id": "CCE3IMWKpmKG"
   },
   "outputs": [
    {
     "name": "stdout",
     "output_type": "stream",
     "text": [
      "ERROR:root:An exception has occurred while importing fortran module: No module named 'PK_force'\n",
      "Using Python subroutines for PK force.\n"
     ]
    }
   ],
   "source": [
    "# Install and import libraries necessary for this session\n",
    "\n",
    "import numpy as np\n",
    "from IPython import display\n",
    "import matplotlib.pyplot as plt\n",
    "import matplotlib.animation as animation\n",
    "import matplotlib.cm as cm\n",
    "import pylabdd as dd"
   ]
  },
  {
   "cell_type": "markdown",
   "id": "O5MVhwZBW7AJ",
   "metadata": {
    "id": "O5MVhwZBW7AJ"
   },
   "source": [
    "## Helper functions"
   ]
  },
  {
   "cell_type": "code",
   "execution_count": 2,
   "id": "3PKjhpAmWXLn",
   "metadata": {
    "id": "3PKjhpAmWXLn"
   },
   "outputs": [],
   "source": [
    "def calc_plastic_strain_increment(rho_m,b0,dx,bx,dy,by):\n",
    "  Cpl = rho_m*b0 # prefactor for Orowan law\n",
    "  dgpl = Cpl*(np.dot(dx,bx) + np.dot(dy,by))\n",
    "  return dgpl\n",
    "\n",
    "def plot_dislocations(x,y,sp_inc,dx,dy,flag,LX,LY,arrowson=True):\n",
    "  assert x.size == y.size == sp_inc.size == dx.size == dy.size == flag.size\n",
    "  N = x.size\n",
    "  qx = np.cos(sp_inc)\n",
    "  qy = np.sin(sp_inc)\n",
    "  for i in range(N):\n",
    "    if flag[i] == 0:\n",
    "      if arrowson == True:\n",
    "        plt.quiver(x[i],y[i], qx[i]/2, qy[i]/2, color='black', headaxislength=0,\\\n",
    "                   headlength=0, scale=3, \\\n",
    "    linewidth=.5, units='xy', width=.05, headwidth=1)\n",
    "        plt.quiver(x[i],y[i], -qx[i]/2, -qy[i]/2, color='black', headaxislength=0,\\\n",
    "                   headlength=0, scale=3, \\\n",
    "    linewidth=.5, units='xy', width=.05, headwidth=1)\n",
    "        plt.quiver(x[i],y[i], -qy[i]/2, qx[i]/2, color='black', headaxislength=0,\\\n",
    "                   headlength=0, scale=3, \\\n",
    "    linewidth=.5, units='xy', width=.05, headwidth=1)\n",
    "      else:\n",
    "        plt.scatter(x[i],y[i], marker=(3, 0, sp_inc[i]*180/np.pi), s=60, c='blue')\n",
    "      # plt.quiver(x[i],y[i], dx[i], dy[i], color='magenta')\n",
    "    elif flag[i] == 1:\n",
    "      plt.scatter(x[i],y[i], marker='o', s=10, c='red')\n",
    "      #plt.quiver(x[i],y[i], qx[i], qy[i], color='green')\n",
    "      #plt.quiver(x[i],y[i], dx[i], dy[i], color='magenta')\n",
    "  ax = plt.gca()\n",
    "  ax.set_xlabel(r'x ($\\mu$m)',fontsize=14)\n",
    "  ax.set_ylabel(r'y ($\\mu$m)',fontsize=14)\n",
    "  ax.set_xlim(0, LX)\n",
    "  ax.set_ylim(0, LY)\n",
    "  ax.set_aspect('equal')"
   ]
  },
  {
   "cell_type": "markdown",
   "id": "ChG60uU5Z80X",
   "metadata": {
    "id": "ChG60uU5Z80X"
   },
   "source": [
    "# Session 3"
   ]
  },
  {
   "cell_type": "markdown",
   "id": "PoQeMDbfuDAD",
   "metadata": {
    "id": "PoQeMDbfuDAD"
   },
   "source": [
    "First we must define the parameters which describe the material. This includes the shear modulus and the Poisson's ratio. In these sessions you will work with **Zirconium** as an example."
   ]
  },
  {
   "cell_type": "code",
   "execution_count": 3,
   "id": "9hm8Yv8huBCD",
   "metadata": {
    "id": "9hm8Yv8huBCD"
   },
   "outputs": [],
   "source": [
    "# Define material parameters for Zirconium\n",
    "\n",
    "mu = 37.1e3                 # Shear modulus\n",
    "nu = 0.32                   # Poisson ratio"
   ]
  },
  {
   "cell_type": "markdown",
   "id": "MgKVZk3_fGS1",
   "metadata": {
    "id": "MgKVZk3_fGS1"
   },
   "source": [
    "## A stress-strain simulation"
   ]
  },
  {
   "cell_type": "markdown",
   "id": "b23a39b0-9ff3-4f34-8b88-1b3ac7ea32ba",
   "metadata": {
    "id": "b23a39b0-9ff3-4f34-8b88-1b3ac7ea32ba"
   },
   "source": [
    "We shall now run a simulation which involves Frank-Read sources. In addition, dislocations may exit the domain which removes them completely from the simulation."
   ]
  },
  {
   "cell_type": "code",
   "execution_count": 4,
   "id": "ddf70cca-40d6-4c14-a729-3bc64211f16c",
   "metadata": {
    "colab": {
     "base_uri": "https://localhost:8080/",
     "height": 464
    },
    "id": "ddf70cca-40d6-4c14-a729-3bc64211f16c",
    "outputId": "22bfb2f3-d607-47a6-b07c-a30004797807"
   },
   "outputs": [
    {
     "data": {
      "image/png": "[encoded data removed]",
      "text/plain": [
       "<Figure size 640x480 with 1 Axes>"
      ]
     },
     "metadata": {},
     "output_type": "display_data"
    }
   ],
   "source": [
    "# Strength of dislocations:\n",
    "b0 = 3.233e-4\n",
    "\n",
    "# Size of the rectangular domain:\n",
    "LX = 10\n",
    "LY = 10\n",
    "\n",
    "# Total number of dislocations to create:\n",
    "Nm = 0\n",
    "\n",
    "# Total number of sources to create:\n",
    "Ns = 10\n",
    "\n",
    "# Total number of dislocation-type objects:\n",
    "Ntot = Nm + Ns\n",
    "\n",
    "# Generate random positions somewhere inside the rectangular domain:\n",
    "# np.random.rand(Ntot) : Array of length Ntot where each entry is a number from 0 to 1\n",
    "xpos = LX * np.random.rand(Ntot)\n",
    "ypos = LY * np.random.rand(Ntot)\n",
    "\n",
    "# Define the slip plane angles of the dislocations and sources:\n",
    "spi1 = 0\n",
    "\n",
    "# Set boundary conditions:\n",
    "bc = 'pbc' # Periodic boundary conditions\n",
    "# Can set bc = 'pbc', bc = 'finite', or bc = 'fixed'\n",
    "\n",
    "# Mobility coefficient: how fast dislocations move (higher = faster)\n",
    "dmob = 0.01\n",
    "\n",
    "# Source activation strength:\n",
    "ctau = 30.\n",
    "#ctau = 110.\n",
    "\n",
    "# Dislocation positions:\n",
    "xpos = LX * np.random.rand(Ntot)\n",
    "ypos = LY * np.random.rand(Ntot)\n",
    "\n",
    "ssd = dd.Dislocations(Nm=Nm, Ns=Ns, mu=mu, nu=nu, b0=b0, spi1=spi1, \\\n",
    "                          xpos=xpos, ypos=ypos, LX=LX, LY=LY, \\\n",
    "                          dmob=dmob, bc=bc, \\\n",
    "                          ctau=ctau)\n",
    "\n",
    "# Set strain parameters\n",
    "\n",
    "edot = 1.e-4             # Strain rate (per microsecond)\n",
    "efin = 1.e-2             # Final strain\n",
    "\n",
    "plot_dislocations(ssd.xpos,ssd.ypos,ssd.sp_inc,ssd.dx,ssd.dy,ssd.flag,LX,LY,arrowson=True)\n",
    "#ssd.plot_stress_simple(arrowson=True)"
   ]
  },
  {
   "cell_type": "code",
   "execution_count": null,
   "id": "ec2489b7-6224-45a6-a5f0-7ce34919c66d",
   "metadata": {
    "colab": {
     "base_uri": "https://localhost:8080/",
     "height": 1000
    },
    "id": "ec2489b7-6224-45a6-a5f0-7ce34919c66d",
    "outputId": "2cd22fdb-0d52-4c16-9281-3794c271e875"
   },
   "outputs": [
    {
     "data": {
      "image/png": "[encoded data removed]",
      "text/plain": [
       "<Figure size 1000x600 with 2 Axes>"
      ]
     },
     "metadata": {},
     "output_type": "display_data"
    },
    {
     "name": "stdout",
     "output_type": "stream",
     "text": [
      "8300 : sigma = 5.62554E+00 | etot = 4.14950E-03  | epl = 3.99838E-03 | Total time = 4.15000E+01 | Nmob = 20\n"
     ]
    }
   ],
   "source": [
    "totalSimTime = efin/edot\n",
    "\n",
    "# Initialise variables\n",
    "\n",
    "simTime = 0. # Current simulation time\n",
    "sig = 0.  # Macro (elastic) shear stress\n",
    "epl  = 0. # Plastic shear strain\n",
    "etot = 0. # Total shear strain\n",
    "ic = 0    # Iteration\n",
    "icp = 0   # Plot iteration\n",
    "dt = ssd.dt0 # Current time-step\n",
    "\n",
    "# Saving and plotting frequencies:\n",
    "saveFreq = 100\n",
    "plotFreq = 100\n",
    "\n",
    "# Storage for post-processing\n",
    "\n",
    "t = np.array([]) # Total time array\n",
    "epl_np = np.array([]) # Plastic shear strain array\n",
    "sig_np = np.array([]) # Total shear stress\n",
    "etot_np = np.array([]) # Total shear strain\n",
    "rho_np = np.array([]) # Mobile dislocation density\n",
    "\n",
    "#fig = plt.figure(figsize=(6,6))\n",
    "fig, (ax1, ax2) = plt.subplots(1, 2, figsize=(10, 6))\n",
    "\n",
    "while simTime < totalSimTime:\n",
    "\n",
    "  # If there are no dislocations, end simulation:\n",
    "  if ssd.Ntot <= 0:\n",
    "      break\n",
    "\n",
    "  # Increase total plastic strain linearly with time:\n",
    "  etot = edot * simTime\n",
    "\n",
    "  # Calculate elastic strain:\n",
    "  eel = etot - epl\n",
    "\n",
    "  # Calculate elastic shear stress using Hooke's law:\n",
    "  sig = mu * eel\n",
    "\n",
    "  # Run one time-step in simulation:\n",
    "  fsp, dt = ssd.move_disl(sig, 'viscous', dt)\n",
    "\n",
    "  # Calculate plastic slip\n",
    "  epl += calc_plastic_strain_increment( \\\n",
    "    ssd.rho_m,ssd.b0,ssd.dx,ssd.bx,ssd.dy,ssd.by)\n",
    "\n",
    "  # Increment time:\n",
    "  simTime += dt\n",
    "\n",
    "  # Increment time-step iteration:\n",
    "  ic += 1\n",
    "\n",
    "  # Save data to array every saveFreq steps:\n",
    "  if ic % saveFreq == 0:\n",
    "\n",
    "    sig_np = np.append(sig_np,sig)\n",
    "    etot_np = np.append(etot_np,etot)\n",
    "\n",
    "  # Plot data every plotFreq steps:\n",
    "  if ic % plotFreq == 0:\n",
    "\n",
    "    icp = ic\n",
    "\n",
    "    display.clear_output(wait=True)\n",
    "\n",
    "    plt.sca(ax1)\n",
    "    ax1.cla()\n",
    "    plot_dislocations(ssd.xpos,ssd.ypos,ssd.sp_inc,ssd.dx,ssd.dy,ssd.flag,LX,LY)\n",
    "\n",
    "    plt.sca(ax2)\n",
    "    ax2.plot(etot_np*100,sig_np,'b')\n",
    "    ax2.set_xlabel('Total strain (%)',fontsize=14)\n",
    "    ax2.set_ylabel('Stress (MPa)',fontsize=14)\n",
    "\n",
    "    fig.tight_layout()\n",
    "\n",
    "    display.display(plt.gcf())\n",
    "\n",
    "    print(ic,': sigma =', '%.5E' % sig,'| etot =','%.5E' % etot,' | epl =','%.5E' % epl,'| Total time =','%.5E' % simTime,'| Nmob =','%d' % ssd.Nmob)\n",
    "\n",
    "display.clear_output(wait=True)\n",
    "plt.sca(ax1)\n",
    "ax1.cla()\n",
    "plot_dislocations(ssd.xpos,ssd.ypos,ssd.sp_inc,ssd.dx,ssd.dy,ssd.flag,LX,LY)\n",
    "\n",
    "plt.sca(ax2)\n",
    "ax2.plot(etot_np*100,sig_np,'b')\n",
    "ax2.set_xlabel('Total strain (%)',fontsize=14)\n",
    "ax2.set_ylabel('Stress (MPa)',fontsize=14)\n",
    "\n",
    "fig.tight_layout()\n",
    "print(ic,': sigma =', '%.5E' % sig,'| etot =','%.5E' % etot,' | epl =','%.5E' % epl,'| Total time =','%.5E' % simTime,'| Nmob =','%d' % ssd.Nmob)"
   ]
  },
  {
   "cell_type": "markdown",
   "id": "5KbkNSDTKj1P",
   "metadata": {
    "id": "5KbkNSDTKj1P"
   },
   "source": [
    "# Some sample code for you"
   ]
  },
  {
   "cell_type": "markdown",
   "id": "EXTCV4PPLTJo",
   "metadata": {
    "id": "EXTCV4PPLTJo"
   },
   "source": [
    "\n",
    "\n",
    "```\n",
    "# Basic example creation of a dislocation configuration:\n",
    "dd = dd.Dislocations(Nm=Nm, Ns=Ns, mu=mu, nu=nu, b0=b0, spi1=spi1, \\\n",
    "                          xpos=xpos, ypos=ypos, LX=LX, LY=LY, \\\n",
    "                          dmob=dmob, bc=bc, \\\n",
    "                          ctau=ctau)\n",
    "\n",
    "# Variables\n",
    "dd.Nmob # Number of mobile dislocations\n",
    "dd.rho_m # Density of mobile dislocations\n",
    "dd.sp_inc # Slip plane angles of each dislocation -- always an array\n",
    "dd.xpos # x-positions -- array in general\n",
    "dd.ypos # y-positions -- array in general\n",
    "\n",
    "# Functions (shown inputs are the defaults)\n",
    "dd.plot_stress_simple(arrowson=True)\n",
    "\n",
    "plot_dislocations(dd.xpos,dd.ypos,dd.sp_inc, \\\n",
    "            dd.dx,dd.dy,dd.flag,LX,LY,arrowson=True)\n",
    "```\n",
    "\n"
   ]
  }
 ],
 "metadata": {
  "colab": {
   "collapsed_sections": [
    "EfNrbCjXmaGr",
    "46tXR5RLlbVN",
    "O5MVhwZBW7AJ"
   ],
   "provenance": []
  },
  "kernelspec": {
   "display_name": "Python 3 (ipykernel)",
   "language": "python",
   "name": "python3"
  },
  "language_info": {
   "codemirror_mode": {
    "name": "ipython",
    "version": 3
   },
   "file_extension": ".py",
   "mimetype": "text/x-python",
   "name": "python",
   "nbconvert_exporter": "python",
   "pygments_lexer": "ipython3",
   "version": "3.12.4"
  }
 },
 "nbformat": 4,
 "nbformat_minor": 5
}
